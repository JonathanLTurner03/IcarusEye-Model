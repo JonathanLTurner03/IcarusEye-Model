{
 "cells": [
  {
   "metadata": {},
   "cell_type": "markdown",
   "source": [
    "# Importing Libraries\n",
    "Ensure that you have installed the following libraries:\n",
    "- Ultralytics YOLOv8\n",
    "- PyTorch (Preferably CUDA version)"
   ],
   "id": "8a77807f92f26ee"
  },
  {
   "metadata": {},
   "cell_type": "code",
   "outputs": [],
   "execution_count": null,
   "source": [
    "from ultralytics import YOLO\n",
    "import torch"
   ],
   "id": "fbc121e30a2defb3"
  },
  {
   "metadata": {},
   "cell_type": "markdown",
   "source": [
    "## Training the Model\n",
    "This is training a new model from scratch. If you have a trained model or resuming training of a model, go to the section below."
   ],
   "id": "70426f689003ce45"
  },
  {
   "metadata": {},
   "cell_type": "code",
   "outputs": [],
   "execution_count": null,
   "source": [
    "torch.multiprocessing.freeze_support()\n",
    "\n",
    "# Load a pretrained YOLOv5 model (recommended for transfer learning)\n",
    "model = YOLO(\"yolov5s.pt\")  # Use the YOLOv5 small version as the starting point\n",
    "\n",
    "# Define hyperparameters to tweak\n",
    "hyperparameters = {\n",
    "    'lr0': 0.001,          # Initial learning rate\n",
    "    'momentum': 0.95,      # Momentum for optimizer\n",
    "    'weight_decay': 0.0005, # Weight decay to avoid overfitting\n",
    "    'batch_size': 16,      # Batch size (modify based on your GPU memory)\n",
    "    'imgsz': 640,          # Image size for training\n",
    "    'epochs': 100,         # Number of epochs\n",
    "    'rect': True,          # Rectangular training for better performance on wide or tall images\n",
    "    'hsv_h': 0.015,        # Color augmentation (hue)\n",
    "    'hsv_s': 0.7,          # Color augmentation (saturation)\n",
    "    'hsv_v': 0.4,          # Color augmentation (value)\n",
    "    'flipud': 0.0,         # Vertical flip probability\n",
    "    'fliplr': 0.5,         # Horizontal flip probability\n",
    "    'perspective': 0.001,  # Perspective transformation (to simulate angle variation)\n",
    "    'scale': 0.5,          # Scaling factor\n",
    "    'mosaic': 1.0,         # Enable mosaic augmentation\n",
    "    'mixup': 0.1           # Enable mixup augmentation\n",
    "}\n",
    "\n",
    "# Train the model\n",
    "results = model.train(\n",
    "    data=\"VisDrone.yaml\",   # Path to your custom dataset YAML file\n",
    "    epochs=hyperparameters['epochs'],\n",
    "    imgsz=hyperparameters['imgsz'],\n",
    "    batch=hyperparameters['batch_size'],\n",
    "    lr0=hyperparameters['lr0'],\n",
    "    momentum=hyperparameters['momentum'],\n",
    "    weight_decay=hyperparameters['weight_decay'],\n",
    "    augment=True,           # Enable augmentations\n",
    "    perspective=hyperparameters['perspective'],\n",
    "    scale=hyperparameters['scale'],\n",
    "    mosaic=hyperparameters['mosaic'],\n",
    "    mixup=hyperparameters['mixup'],\n",
    "    hsv_h=hyperparameters['hsv_h'],\n",
    "    hsv_s=hyperparameters['hsv_s'],\n",
    "    hsv_v=hyperparameters['hsv_v'],\n",
    "    fliplr=hyperparameters['fliplr'],\n",
    "    rect=hyperparameters['rect'],\n",
    "    resume=False            # Resume from last training session if True\n",
    ")"
   ],
   "id": "796cd4ea0be021a9"
  },
  {
   "metadata": {},
   "cell_type": "code",
   "outputs": [],
   "execution_count": null,
   "source": [
    "torch.multiprocessing.freeze_support()\n",
    "\n",
    "# Load a pretrained YOLOv5 model (recommended for transfer learning)\n",
    "model = YOLO(\"best.pt\")  # Use the YOLOv5 small version as the starting point\n",
    "\n",
    "# Define hyperparameters to tweak\n",
    "hyperparameters = {\n",
    "    'lr0': 0.001,          # Initial learning rate\n",
    "    'momentum': 0.95,      # Momentum for optimizer\n",
    "    'weight_decay': 0.0005, # Weight decay to avoid overfitting\n",
    "    'batch_size': 16,      # Batch size (modify based on your GPU memory)\n",
    "    'imgsz': 640,          # Image size for training\n",
    "    'epochs': 100,         # Number of epochs\n",
    "    'rect': True,          # Rectangular training for better performance on wide or tall images\n",
    "    'hsv_h': 0.015,        # Color augmentation (hue)\n",
    "    'hsv_s': 0.7,          # Color augmentation (saturation)\n",
    "    'hsv_v': 0.4,          # Color augmentation (value)\n",
    "    'flipud': 0.0,         # Vertical flip probability\n",
    "    'fliplr': 0.5,         # Horizontal flip probability\n",
    "    'perspective': 0.001,  # Perspective transformation (to simulate angle variation)\n",
    "    'scale': 0.5,          # Scaling factor\n",
    "    'mosaic': 1.0,         # Enable mosaic augmentation\n",
    "    'mixup': 0.1           # Enable mixup augmentation\n",
    "}\n",
    "\n",
    "# Train the model\n",
    "results = model.train(\n",
    "    data=\"VisDrone.yaml\",   # Path to your custom dataset YAML file\n",
    "    epochs=hyperparameters['epochs'],\n",
    "    imgsz=hyperparameters['imgsz'],\n",
    "    batch=hyperparameters['batch_size'],\n",
    "    lr0=hyperparameters['lr0'],\n",
    "    momentum=hyperparameters['momentum'],\n",
    "    weight_decay=hyperparameters['weight_decay'],\n",
    "    augment=True,           # Enable augmentations\n",
    "    perspective=hyperparameters['perspective'],\n",
    "    scale=hyperparameters['scale'],\n",
    "    mosaic=hyperparameters['mosaic'],\n",
    "    mixup=hyperparameters['mixup'],\n",
    "    hsv_h=hyperparameters['hsv_h'],\n",
    "    hsv_s=hyperparameters['hsv_s'],\n",
    "    hsv_v=hyperparameters['hsv_v'],\n",
    "    fliplr=hyperparameters['fliplr'],\n",
    "    rect=hyperparameters['rect'],\n",
    "    resume=True            # Resume from last training session if True\n",
    ")"
   ],
   "id": "eb787fe40a73e4af"
  }
 ],
 "metadata": {
  "kernelspec": {
   "display_name": "Python 3",
   "language": "python",
   "name": "python3"
  },
  "language_info": {
   "codemirror_mode": {
    "name": "ipython",
    "version": 2
   },
   "file_extension": ".py",
   "mimetype": "text/x-python",
   "name": "python",
   "nbconvert_exporter": "python",
   "pygments_lexer": "ipython2",
   "version": "2.7.6"
  }
 },
 "nbformat": 4,
 "nbformat_minor": 5
}
