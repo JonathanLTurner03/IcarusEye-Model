{
 "cells": [
  {
   "cell_type": "markdown",
   "id": "75dd3797bce0735c",
   "metadata": {},
   "source": [
    "## Installing pre-reqs\n",
    "Since this will be utilizing a PyTorch Paperspace Gradient, pytorch and its associated will be excluded from this."
   ]
  },
  {
   "cell_type": "code",
   "id": "220b049738624fbf",
   "metadata": {
    "execution": {
     "iopub.execute_input": "2024-10-05T02:27:32.178790Z",
     "iopub.status.busy": "2024-10-05T02:27:32.177885Z",
     "iopub.status.idle": "2024-10-05T02:27:36.708511Z",
     "shell.execute_reply": "2024-10-05T02:27:36.705431Z",
     "shell.execute_reply.started": "2024-10-05T02:27:32.178790Z"
    }
   },
   "source": "%pip install ultralytics wandb python-dotenv",
   "outputs": [],
   "execution_count": null
  },
  {
   "cell_type": "markdown",
   "id": "8a77807f92f26ee",
   "metadata": {},
   "source": [
    "# Importing Libraries\n",
    "Ensure that you have installed the following libraries:\n",
    "- Ultralytics YOLOv8\n",
    "- PyTorch (Preferably CUDA version)"
   ]
  },
  {
   "cell_type": "code",
   "id": "fbc121e30a2defb3",
   "metadata": {
    "execution": {
     "iopub.execute_input": "2024-10-05T02:27:36.711028Z",
     "iopub.status.busy": "2024-10-05T02:27:36.710649Z",
     "iopub.status.idle": "2024-10-05T02:27:41.280650Z",
     "shell.execute_reply": "2024-10-05T02:27:41.279874Z",
     "shell.execute_reply.started": "2024-10-05T02:27:36.710998Z"
    }
   },
   "source": [
    "from ultralytics import YOLO\n",
    "from dotenv import load_dotenv\n",
    "import torch\n",
    "import os\n",
    "import wandb"
   ],
   "outputs": [],
   "execution_count": null
  },
  {
   "cell_type": "markdown",
   "id": "70426f689003ce45",
   "metadata": {},
   "source": [
    "## Training the Model\n",
    "This is training a new model from scratch. If you have a trained model or resuming training of a model, go to the section below."
   ]
  },
  {
   "cell_type": "code",
   "id": "796cd4ea0be021a9",
   "metadata": {
    "execution": {
     "iopub.execute_input": "2024-10-05T02:27:41.282184Z",
     "iopub.status.busy": "2024-10-05T02:27:41.281811Z",
     "iopub.status.idle": "2024-10-05T02:27:58.739642Z",
     "shell.execute_reply": "2024-10-05T02:27:58.737889Z",
     "shell.execute_reply.started": "2024-10-05T02:27:41.282158Z"
    },
    "jupyter": {
     "is_executing": true
    }
   },
   "source": [
    "torch.multiprocessing.freeze_support()\n",
    "\n",
    "# Loads .env config api.\n",
    "load_dotenv()\n",
    "WANDB_API_KEY = os.getenv('WANDB_API_KEY')\n",
    "wandb.login(key=WANDB_API_KEY)\n",
    "wandb.init(entity=\"Jonathan Turner\", project=IcarusEye)\n",
    "\n",
    "# Load a pretrained YOLOv5 model (recommended for transfer learning)\n",
    "model = YOLO(\"yolov8s.pt\")  # Use the YOLOv5 small version as the starting point\n",
    "\n",
    "# Define hyperparameters to tweak\n",
    "hyperparameters = {\n",
    "    'lr0': 0.001,            # Initial learning rate\n",
    "    'momentum': 0.95,       # Momentum for optimizer\n",
    "    'weight_decay': 0.001, # Weight decay to avoid overfitting\n",
    "    'batch_size': 24,       # Batch size (modify based on your GPU memory)\n",
    "    'imgsz': 640,           # Image size for training\n",
    "    'epochs': 200,          # Number of epochs\n",
    "    'rect': True,           # Rectangular training for better performance on wide or tall images\n",
    "    'hsv_h': 0.015,         # Color augmentation (hue)\n",
    "    'hsv_s': 0.7,           # Color augmentation (saturation)\n",
    "    'hsv_v': 0.4,           # Color augmentation (value)\n",
    "    'flipud': 0.0,          # Vertical flip probability\n",
    "    'fliplr': 0.5,          # Horizontal flip probability\n",
    "    'perspective': 0.001,   # Perspective transformation (to simulate angle variation)\n",
    "    'scale': 0.2,           # Scaling factor\n",
    "    'mosaic': 0.3,          # Enable mosaic augmentation\n",
    "    'mixup': 0.1            # Enable mixup augmentation\n",
    "}\n",
    "\n",
    "# Train the model\n",
    "results = model.train(\n",
    "    data=\"VisDrone.yaml\",   # Path to your custom dataset YAML file\n",
    "    epochs=hyperparameters['epochs'],\n",
    "    imgsz=hyperparameters['imgsz'],\n",
    "    batch=hyperparameters['batch_size'],\n",
    "    lr0=hyperparameters['lr0'],\n",
    "    momentum=hyperparameters['momentum'],\n",
    "    weight_decay=hyperparameters['weight_decay'],\n",
    "    augment=True,           # Enable augmentations\n",
    "    perspective=hyperparameters['perspective'],\n",
    "    scale=hyperparameters['scale'],\n",
    "    mosaic=hyperparameters['mosaic'],\n",
    "    mixup=hyperparameters['mixup'],\n",
    "    hsv_h=hyperparameters['hsv_h'],\n",
    "    hsv_s=hyperparameters['hsv_s'],\n",
    "    hsv_v=hyperparameters['hsv_v'],\n",
    "    fliplr=hyperparameters['fliplr'],\n",
    "    rect=hyperparameters['rect'],\n",
    "    optimizer='AdamW',\n",
    "    resume=False           # Resume from last training session if True\n",
    ")"
   ],
   "outputs": [],
   "execution_count": null
  }
 ],
 "metadata": {
  "kernelspec": {
   "display_name": "Python 3 (ipykernel)",
   "language": "python",
   "name": "python3"
  },
  "language_info": {
   "codemirror_mode": {
    "name": "ipython",
    "version": 3
   },
   "file_extension": ".py",
   "mimetype": "text/x-python",
   "name": "python",
   "nbconvert_exporter": "python",
   "pygments_lexer": "ipython3",
   "version": "3.11.7"
  }
 },
 "nbformat": 4,
 "nbformat_minor": 5
}
